{
 "cells": [
  {
   "cell_type": "code",
   "execution_count": 1,
   "metadata": {},
   "outputs": [],
   "source": [
    "import pandas as pd\n"
   ]
  },
  {
   "cell_type": "code",
   "execution_count": 2,
   "metadata": {},
   "outputs": [
    {
     "data": {
      "text/html": [
       "<div>\n",
       "<style scoped>\n",
       "    .dataframe tbody tr th:only-of-type {\n",
       "        vertical-align: middle;\n",
       "    }\n",
       "\n",
       "    .dataframe tbody tr th {\n",
       "        vertical-align: top;\n",
       "    }\n",
       "\n",
       "    .dataframe thead th {\n",
       "        text-align: right;\n",
       "    }\n",
       "</style>\n",
       "<table border=\"1\" class=\"dataframe\">\n",
       "  <thead>\n",
       "    <tr style=\"text-align: right;\">\n",
       "      <th></th>\n",
       "      <th>Brand me</th>\n",
       "      <th>Ratings</th>\n",
       "      <th>RAM</th>\n",
       "      <th>ROM</th>\n",
       "      <th>Mobile_Size</th>\n",
       "      <th>Primary_Cam</th>\n",
       "      <th>Selfi_Cam</th>\n",
       "      <th>Battery_Power</th>\n",
       "      <th>Price</th>\n",
       "    </tr>\n",
       "  </thead>\n",
       "  <tbody>\n",
       "    <tr>\n",
       "      <th>0</th>\n",
       "      <td>LG V30+ (Black, 128 )</td>\n",
       "      <td>4.3</td>\n",
       "      <td>4.0</td>\n",
       "      <td>128.0</td>\n",
       "      <td>6.00</td>\n",
       "      <td>48</td>\n",
       "      <td>13.0</td>\n",
       "      <td>4000</td>\n",
       "      <td>24999</td>\n",
       "    </tr>\n",
       "    <tr>\n",
       "      <th>1</th>\n",
       "      <td>I Kall K11</td>\n",
       "      <td>3.4</td>\n",
       "      <td>6.0</td>\n",
       "      <td>64.0</td>\n",
       "      <td>4.50</td>\n",
       "      <td>48</td>\n",
       "      <td>12.0</td>\n",
       "      <td>4000</td>\n",
       "      <td>15999</td>\n",
       "    </tr>\n",
       "    <tr>\n",
       "      <th>2</th>\n",
       "      <td>Nokia 105 ss</td>\n",
       "      <td>4.3</td>\n",
       "      <td>4.0</td>\n",
       "      <td>4.0</td>\n",
       "      <td>4.50</td>\n",
       "      <td>64</td>\n",
       "      <td>16.0</td>\n",
       "      <td>4000</td>\n",
       "      <td>15000</td>\n",
       "    </tr>\n",
       "    <tr>\n",
       "      <th>3</th>\n",
       "      <td>Samsung Galaxy A50 (White, 64 )</td>\n",
       "      <td>4.4</td>\n",
       "      <td>6.0</td>\n",
       "      <td>64.0</td>\n",
       "      <td>6.40</td>\n",
       "      <td>48</td>\n",
       "      <td>15.0</td>\n",
       "      <td>3800</td>\n",
       "      <td>18999</td>\n",
       "    </tr>\n",
       "    <tr>\n",
       "      <th>4</th>\n",
       "      <td>POCO F1 (Steel Blue, 128 )</td>\n",
       "      <td>4.5</td>\n",
       "      <td>6.0</td>\n",
       "      <td>128.0</td>\n",
       "      <td>6.18</td>\n",
       "      <td>35</td>\n",
       "      <td>15.0</td>\n",
       "      <td>3800</td>\n",
       "      <td>18999</td>\n",
       "    </tr>\n",
       "  </tbody>\n",
       "</table>\n",
       "</div>"
      ],
      "text/plain": [
       "                          Brand me  Ratings  RAM    ROM  Mobile_Size  \\\n",
       "0            LG V30+ (Black, 128 )      4.3  4.0  128.0         6.00   \n",
       "1                       I Kall K11      3.4  6.0   64.0         4.50   \n",
       "2                     Nokia 105 ss      4.3  4.0    4.0         4.50   \n",
       "3  Samsung Galaxy A50 (White, 64 )      4.4  6.0   64.0         6.40   \n",
       "4       POCO F1 (Steel Blue, 128 )      4.5  6.0  128.0         6.18   \n",
       "\n",
       "   Primary_Cam  Selfi_Cam  Battery_Power  Price  \n",
       "0           48       13.0           4000  24999  \n",
       "1           48       12.0           4000  15999  \n",
       "2           64       16.0           4000  15000  \n",
       "3           48       15.0           3800  18999  \n",
       "4           35       15.0           3800  18999  "
      ]
     },
     "execution_count": 2,
     "metadata": {},
     "output_type": "execute_result"
    }
   ],
   "source": [
    "phones = pd.read_csv('../Datasets/Mobile Price Prediction Datatset.csv').drop('Unnamed: 0', axis=1)\n",
    "phones.head()\n"
   ]
  },
  {
   "cell_type": "code",
   "execution_count": 3,
   "metadata": {},
   "outputs": [
    {
     "name": "stdout",
     "output_type": "stream",
     "text": [
      "<class 'pandas.core.frame.DataFrame'>\n",
      "RangeIndex: 836 entries, 0 to 835\n",
      "Data columns (total 9 columns):\n",
      " #   Column         Non-Null Count  Dtype  \n",
      "---  ------         --------------  -----  \n",
      " 0   Brand me       836 non-null    object \n",
      " 1   Ratings        805 non-null    float64\n",
      " 2   RAM            829 non-null    float64\n",
      " 3   ROM            832 non-null    float64\n",
      " 4   Mobile_Size    834 non-null    float64\n",
      " 5   Primary_Cam    836 non-null    int64  \n",
      " 6   Selfi_Cam      567 non-null    float64\n",
      " 7   Battery_Power  836 non-null    int64  \n",
      " 8   Price          836 non-null    int64  \n",
      "dtypes: float64(5), int64(3), object(1)\n",
      "memory usage: 58.9+ KB\n"
     ]
    }
   ],
   "source": [
    "phones.info()\n"
   ]
  },
  {
   "cell_type": "code",
   "execution_count": 4,
   "metadata": {},
   "outputs": [],
   "source": [
    "cols = phones.columns[phones.isna().any()]\n",
    "for col in cols:\n",
    "    phones[col] = phones[col].fillna(phones[col].mean())\n"
   ]
  },
  {
   "cell_type": "code",
   "execution_count": 5,
   "metadata": {},
   "outputs": [
    {
     "name": "stdout",
     "output_type": "stream",
     "text": [
      "<class 'pandas.core.frame.DataFrame'>\n",
      "RangeIndex: 836 entries, 0 to 835\n",
      "Data columns (total 9 columns):\n",
      " #   Column         Non-Null Count  Dtype  \n",
      "---  ------         --------------  -----  \n",
      " 0   Brand me       836 non-null    object \n",
      " 1   Ratings        836 non-null    float64\n",
      " 2   RAM            836 non-null    float64\n",
      " 3   ROM            836 non-null    float64\n",
      " 4   Mobile_Size    836 non-null    float64\n",
      " 5   Primary_Cam    836 non-null    int64  \n",
      " 6   Selfi_Cam      836 non-null    float64\n",
      " 7   Battery_Power  836 non-null    int64  \n",
      " 8   Price          836 non-null    int64  \n",
      "dtypes: float64(5), int64(3), object(1)\n",
      "memory usage: 58.9+ KB\n"
     ]
    }
   ],
   "source": [
    "phones.info()\n"
   ]
  },
  {
   "cell_type": "code",
   "execution_count": 6,
   "metadata": {},
   "outputs": [],
   "source": [
    "phones = phones.drop('Brand me', axis=1)\n"
   ]
  },
  {
   "cell_type": "code",
   "execution_count": 7,
   "metadata": {},
   "outputs": [],
   "source": [
    "phones.to_csv('MobilePrices.csv',index=False)\n"
   ]
  },
  {
   "cell_type": "code",
   "execution_count": 8,
   "metadata": {},
   "outputs": [],
   "source": [
    "Y, X = phones['Price'], phones.drop('Price', axis=1)\n"
   ]
  },
  {
   "cell_type": "code",
   "execution_count": 9,
   "metadata": {},
   "outputs": [],
   "source": [
    "from sklearn.model_selection import train_test_split\n",
    "\n",
    "split = train_test_split(X, Y, test_size=0.2, random_state=42)\n"
   ]
  },
  {
   "cell_type": "code",
   "execution_count": 10,
   "metadata": {},
   "outputs": [
    {
     "data": {
      "text/plain": [
       "0.971"
      ]
     },
     "execution_count": 10,
     "metadata": {},
     "output_type": "execute_result"
    }
   ],
   "source": [
    "from sklearn.tree import DecisionTreeRegressor\n",
    "from sklearn.metrics import r2_score as r2\n",
    "\n",
    "dtr = DecisionTreeRegressor()\n",
    "r2(split[3], dtr.fit(split[0], split[2]).predict(split[1])).round(3)\n"
   ]
  },
  {
   "cell_type": "code",
   "execution_count": 11,
   "metadata": {},
   "outputs": [
    {
     "data": {
      "text/plain": [
       "0.97"
      ]
     },
     "execution_count": 11,
     "metadata": {},
     "output_type": "execute_result"
    }
   ],
   "source": [
    "from typing import Literal, Callable\n",
    "import numpy as np\n",
    "from collections import Counter\n",
    "\n",
    "class Node:\n",
    "    def __init__(self,\n",
    "        predicted_value: float | int | None = None,\n",
    "        feature: int | None = None,\n",
    "        threshold: float | int | None = None,\n",
    "        left_child = None,\n",
    "        right_child = None\n",
    "    ):\n",
    "        self.predicted_value = predicted_value\n",
    "        self.feature = feature\n",
    "        self.threshold = threshold\n",
    "        self.left_child = left_child\n",
    "        self.right_child = right_child\n",
    "\n",
    "def mean_squared_error(column: np.ndarray):\n",
    "    return np.mean((column - np.mean(column))**2 )\n",
    "\n",
    "def mean_absolute_error(column: np.ndarray):\n",
    "    return np.sum(np.absolute(column - np.mean(column))) / column.shape[0]\n",
    "\n",
    "def entropy(column: np.ndarray):\n",
    "    probabilities = np.array(list(Counter(column).values())) / len(column)\n",
    "    return -np.sum(probabilities * np.log2(probabilities))\n",
    "\n",
    "def gini(column: np.ndarray):\n",
    "    column = np.sort(column)\n",
    "    n = column.shape[0]\n",
    "    index = np.arange(1, n + 1)\n",
    "    return ((np.sum((2 * index - n  - 1) * column)) / (n * np.sum(column)))\n",
    "\n",
    "def null(x) -> bool:\n",
    "    return x.shape[0] == 0 if type(x) is np.ndarray else not bool(x)\n",
    "\n",
    "def mean(Y: np.ndarray):\n",
    "    return Node(np.mean(Y))\n",
    "\n",
    "def mode(Y: np.ndarray):\n",
    "    return Node(Counter(Y).most_common(1)[0][0])\n",
    "\n",
    "class CART:\n",
    "    \"\"\"Classification and regression tree\"\"\"\n",
    "    CRITERIONS = {\n",
    "        'squared_error': mean_squared_error ,\n",
    "        'absolute_error': mean_absolute_error,\n",
    "        'entropy': entropy,\n",
    "        'gini': gini,\n",
    "    }\n",
    "\n",
    "    @staticmethod\n",
    "    def __initialization(func):\n",
    "        def init_wrapper(*args, **kwargs):\n",
    "            func(*args, **kwargs)\n",
    "            self: CART = args[0]\n",
    "            if self.criterion not in CART.CRITERIONS:\n",
    "                raise ValueError(f'Criterion {self.criterion} not exists')\n",
    "            regression = self.criterion in ['squared_error', 'absolute_error']\n",
    "            self.list = mean if regression else mode\n",
    "            self.criterion = CART.CRITERIONS[self.criterion]\n",
    "        return init_wrapper\n",
    "\n",
    "    @__initialization\n",
    "    def __init__(\n",
    "        self,\n",
    "        criterion: Literal['squared_error', 'absolute_error', 'entropy', 'gini'],\n",
    "        max_depth: int | None = None,\n",
    "        min_samples_split: int = 2\n",
    "    ) -> None:\n",
    "        self.max_depth = max_depth\n",
    "        self.criterion = criterion\n",
    "        self.min_samples_split = min_samples_split\n",
    "        self.list: Callable[[np.ndarray], float | int] | None = None\n",
    "\n",
    "    def __split_dataset(\n",
    "        self, X: np.ndarray, y: np.ndarray, feature: int, threshold: float\n",
    "    ):\n",
    "        left_indexes = np.where(X[:, feature] <= threshold)[0]\n",
    "        right_indexes = np.where(X[:, feature] > threshold)[0]\n",
    "        return X[left_indexes], y[left_indexes], X[right_indexes], y[right_indexes]\n",
    "\n",
    "    def __find_best_split(self, X: np.ndarray, y: np.ndarray):\n",
    "        best_feature, best_threshold, best_criterion_score = None, None, np.inf\n",
    "        for feature in range(X.shape[1]):\n",
    "            thresholds = np.unique(X[:, feature])\n",
    "            for threshold in thresholds:\n",
    "                _, y_left, _, y_right = self.__split_dataset(X, y, feature, threshold)\n",
    "                if not (null(y_left) or null(y_right)):\n",
    "                    criterion_score = (len(y_left) * self.criterion(y_left) +\n",
    "                        len(y_right) * self.criterion(y_right)) / len(y)\n",
    "                    if criterion_score < best_criterion_score:\n",
    "                        best_feature, best_threshold, best_criterion_score = (\n",
    "                            feature, threshold, criterion_score)\n",
    "        return best_feature, best_threshold\n",
    "\n",
    "    def __build_tree(self, X: np.ndarray, y: np.ndarray, depth: int = 0):\n",
    "        if depth == self.max_depth or len(X) <= self.min_samples_split:\n",
    "            return self.list(y)\n",
    "        feature, threshold = self.__find_best_split(X, y)\n",
    "        if not threshold:\n",
    "            return self.list(y)\n",
    "        x_left, y_left, x_right, y_right = self.__split_dataset(X, y, feature, threshold)\n",
    "        left_child = self.__build_tree(x_left, y_left, depth + 1)\n",
    "        right_child = self.__build_tree(x_right, y_right, depth + 1)\n",
    "        return Node(feature=feature,\n",
    "                    threshold=threshold,\n",
    "                    left_child=left_child,\n",
    "                    right_child=right_child)\n",
    "\n",
    "    def fit(self, X: np.ndarray, y: np.ndarray):\n",
    "        self.root = self.__build_tree(np.array(X), np.array(y))\n",
    "        return self\n",
    "\n",
    "    def __predict_single(self, X: np.ndarray, node: Node):\n",
    "        while isinstance(node.feature, int):\n",
    "            node = node.left_child if X[node.feature] <= node.threshold else node.right_child\n",
    "        return node.predicted_value\n",
    "\n",
    "    def predict(self, X: np.ndarray):\n",
    "        return [self.__predict_single(x, self.root) for x in np.array(X)]\n",
    "\n",
    "cart = CART(criterion='squared_error')\n",
    "cart.fit(split[0], split[2])\n",
    "predict = cart.predict(split[1])\n",
    "r2(split[3], predict).round(3)\n",
    "\n",
    "import pickle\n",
    "\n",
    "with open('../DumpsModels/regr_cart.pickle', 'wb') as file:\n",
    "    pickle.dump(cart, file)\n"
   ]
  }
 ],
 "metadata": {
  "kernelspec": {
   "display_name": "Python 3",
   "language": "python",
   "name": "python3"
  },
  "language_info": {
   "codemirror_mode": {
    "name": "ipython",
    "version": 3
   },
   "file_extension": ".py",
   "mimetype": "text/x-python",
   "name": "python",
   "nbconvert_exporter": "python",
   "pygments_lexer": "ipython3",
   "version": "3.11.7"
  }
 },
 "nbformat": 4,
 "nbformat_minor": 2
}
