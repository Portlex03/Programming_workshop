{
 "cells": [
  {
   "cell_type": "markdown",
   "metadata": {},
   "source": [
    "# Лабораторная работа 2"
   ]
  },
  {
   "cell_type": "code",
   "execution_count": 1,
   "metadata": {},
   "outputs": [],
   "source": [
    "import warnings\n",
    "warnings.filterwarnings('ignore')"
   ]
  },
  {
   "cell_type": "markdown",
   "metadata": {},
   "source": [
    "# Задание 1\n",
    "Найдите первую и вторую производные функции y в заданной точке x0 для своего варианта с помощью scipy.\n",
    "Вариант 2: 𝑦 = 𝑙𝑛(sqrt(𝑥)), 𝑥0 = 2, 𝑎 = 1, 𝑏 = 6"
   ]
  },
  {
   "cell_type": "code",
   "execution_count": 2,
   "metadata": {},
   "outputs": [],
   "source": [
    "# импорт функции производной\n",
    "from scipy.misc import derivative\n",
    "import math"
   ]
  },
  {
   "cell_type": "code",
   "execution_count": 3,
   "metadata": {},
   "outputs": [
    {
     "name": "stdout",
     "output_type": "stream",
     "text": [
      "Первая производная функции f = 0.2746530721670274\n",
      "Вторая производная функции f = -0.14384103622589062\n"
     ]
    }
   ],
   "source": [
    "x0 = 2\n",
    "f = lambda x: math.log(math.sqrt(x))\n",
    "\n",
    "derivative1 = derivative(f, x0)\n",
    "print(f'Первая производная функции f = {derivative1}')\n",
    "\n",
    "derivative2 = derivative(f, x0, n=2)\n",
    "print(f'Вторая производная функции f = {derivative2}')"
   ]
  },
  {
   "cell_type": "markdown",
   "metadata": {},
   "source": [
    "# Задание 2\n",
    "Используя функцию из таблицы выше для вашего варианта и пакет sympy выведите на экран символьное представление производной."
   ]
  },
  {
   "cell_type": "code",
   "execution_count": 4,
   "metadata": {},
   "outputs": [],
   "source": [
    "import sympy as sym"
   ]
  },
  {
   "cell_type": "code",
   "execution_count": 5,
   "metadata": {},
   "outputs": [
    {
     "name": "stdout",
     "output_type": "stream",
     "text": [
      "Производная функции log(sqrt(x)) равна 1/(2*x)\n"
     ]
    }
   ],
   "source": [
    "x = sym.Symbol('x')\n",
    "f = sym.ln(sym.sqrt(x))\n",
    "der = sym.diff(f, x)\n",
    "print(f'Производная функции {f} равна {der}')"
   ]
  },
  {
   "cell_type": "markdown",
   "metadata": {},
   "source": [
    "# Задание 3\n",
    "Вычислите определенный интеграл от a до b с помощью scipy функции\n",
    "для своего варианта. Интеграл вычислите методом прямоугольников."
   ]
  },
  {
   "cell_type": "code",
   "execution_count": 10,
   "metadata": {},
   "outputs": [
    {
     "name": "stdout",
     "output_type": "stream",
     "text": [
      "Значение интеграла функции f от 1 до 6 = (2.8752784076841635, 9.077930271933315e-10)\n"
     ]
    }
   ],
   "source": [
    "from scipy import integrate\n",
    "f = lambda x: math.log(math.sqrt(x))\n",
    "integral_meaning = integrate.quad(f,a=1,b=6)\n",
    "print(f'Значение интеграла функции f от 1 до 6 = {integral_meaning}')"
   ]
  },
  {
   "cell_type": "markdown",
   "metadata": {},
   "source": [
    "# Задание 4\n",
    "С помощью sympy выведите на экран неопределенный интеграл\n",
    "функции y для вашего варианта"
   ]
  },
  {
   "cell_type": "code",
   "execution_count": 7,
   "metadata": {},
   "outputs": [
    {
     "name": "stdout",
     "output_type": "stream",
     "text": [
      "Неопределённый интеграл функции f:\n"
     ]
    },
    {
     "data": {
      "text/latex": [
       "$\\displaystyle x \\log{\\left(\\sqrt{x} \\right)} - \\frac{x}{2}$"
      ],
      "text/plain": [
       "x*log(sqrt(x)) - x/2"
      ]
     },
     "execution_count": 7,
     "metadata": {},
     "output_type": "execute_result"
    }
   ],
   "source": [
    "f = sym.ln(sym.sqrt(x))\n",
    "print('Неопределённый интеграл функции f:')\n",
    "sym.integrate(f)"
   ]
  },
  {
   "cell_type": "markdown",
   "metadata": {},
   "source": [
    "# Задание 5\n",
    "Решите задачу нелинейной оптимизации для вашего варианта.\n",
    "Выведите оптимальное значение и решение.\n",
    "\n",
    "Вариант 2:\n",
    "\n",
    "(𝑥1 - 3)^2 + (𝑥2 − 1)^2 → 𝑚𝑖𝑛\n",
    "\n",
    "−2𝑥1 + 𝑥2 ≥ 2\n",
    "\n",
    "3𝑥2 ≥ 10\n",
    "\n",
    "Все переменные неотрицательны"
   ]
  },
  {
   "cell_type": "code",
   "execution_count": 23,
   "metadata": {},
   "outputs": [
    {
     "data": {
      "text/plain": [
       " message: Optimization terminated successfully\n",
       " success: True\n",
       "  status: 0\n",
       "     fun: 10.888888888889218\n",
       "       x: [ 6.667e-01  3.333e+00]\n",
       "     nit: 3\n",
       "     jac: [-4.667e+00  4.667e+00]\n",
       "    nfev: 10\n",
       "    njev: 3"
      ]
     },
     "execution_count": 23,
     "metadata": {},
     "output_type": "execute_result"
    }
   ],
   "source": [
    "from scipy.optimize import minimize\n",
    "\n",
    "f = lambda x: (x[0] - 3)**2 + (x[1] - 1)**2\n",
    "\n",
    "constr1 = lambda x: -2 * x[0] + x[1] - 2\n",
    "constr2 = lambda x: 3 * x[1] - 10\n",
    "\n",
    "x0 = [0,0]\n",
    "constraints = [{'type': 'ineq', 'fun': constr1}, {'type': 'ineq', 'fun': constr2}]\n",
    "bounds = [(0, None), (0, None)]\n",
    "\n",
    "res = minimize(\n",
    "    f,x0,bounds=bounds,constraints=constraints\n",
    ")\n",
    "res"
   ]
  }
 ],
 "metadata": {
  "kernelspec": {
   "display_name": "Python 3",
   "language": "python",
   "name": "python3"
  },
  "language_info": {
   "codemirror_mode": {
    "name": "ipython",
    "version": 3
   },
   "file_extension": ".py",
   "mimetype": "text/x-python",
   "name": "python",
   "nbconvert_exporter": "python",
   "pygments_lexer": "ipython3",
   "version": "3.11.3"
  },
  "orig_nbformat": 4
 },
 "nbformat": 4,
 "nbformat_minor": 2
}
