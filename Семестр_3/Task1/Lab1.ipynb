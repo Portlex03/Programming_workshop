{
 "cells": [
  {
   "cell_type": "code",
   "execution_count": 538,
   "metadata": {},
   "outputs": [],
   "source": [
    "import numpy as np"
   ]
  },
  {
   "cell_type": "code",
   "execution_count": 539,
   "metadata": {},
   "outputs": [],
   "source": [
    "def print_matrix(matrix_name: str, matrix: np.ndarray) -> None:\n",
    "    print(matrix_name + ':')\n",
    "    print('\\n'.join('|'.join(\"{:12}\".format(str(round(cell,5))) for cell in row) for row in matrix))"
   ]
  },
  {
   "cell_type": "code",
   "execution_count": 540,
   "metadata": {},
   "outputs": [
    {
     "name": "stdout",
     "output_type": "stream",
     "text": [
      "my_array:\n",
      "10 12 14 16 18 20 22 24 26 28 30 32 34 36 38 40 42 44 46 48 50 52 54 56 58 60 62 64 66 68\n"
     ]
    }
   ],
   "source": [
    "# 1 шаг\n",
    "# Создайте numpy array my_array, элементами которого будут числа из\n",
    "# интервала [10, 70) с шагом 2.\n",
    "my_array = np.array(range(10,70,2))\n",
    "print('my_array:')\n",
    "print(' '.join(map(str, my_array)))"
   ]
  },
  {
   "cell_type": "code",
   "execution_count": 541,
   "metadata": {},
   "outputs": [
    {
     "name": "stdout",
     "output_type": "stream",
     "text": [
      "A:\n",
      "10          |12          |14          |16          |18          \n",
      "20          |22          |24          |26          |28          \n",
      "30          |32          |34          |36          |38          \n",
      "40          |42          |44          |46          |48          \n",
      "50          |52          |54          |56          |58          \n",
      "60          |62          |64          |66          |68          \n",
      "\n",
      "A транспонированная:\n",
      "10          |20          |30          |40          |50          |60          \n",
      "12          |22          |32          |42          |52          |62          \n",
      "14          |24          |34          |44          |54          |64          \n",
      "16          |26          |36          |46          |56          |66          \n",
      "18          |28          |38          |48          |58          |68          \n"
     ]
    }
   ],
   "source": [
    "# 2 шаг\n",
    "# Преобразуйте полученный my_array в матрицу A (6x5)\n",
    "A = np.reshape(my_array,(6,5))\n",
    "\n",
    "print_matrix('A',A)\n",
    "print()\n",
    "# Транспонируйте матрицу A\n",
    "A = A.transpose()\n",
    "print_matrix('A транспонированная', A)"
   ]
  },
  {
   "cell_type": "code",
   "execution_count": 542,
   "metadata": {},
   "outputs": [
    {
     "name": "stdout",
     "output_type": "stream",
     "text": [
      "A:\n",
      "25          |50          |75          |100         |125         |150         \n",
      "30          |55          |80          |105         |130         |155         \n",
      "35          |60          |85          |110         |135         |160         \n",
      "40          |65          |90          |115         |140         |165         \n",
      "45          |70          |95          |120         |145         |170         \n",
      "\n",
      "A:\n",
      "20          |45          |70          |95          |120         |145         \n",
      "30          |55          |80          |105         |130         |155         \n",
      "35          |60          |85          |110         |135         |160         \n",
      "40          |65          |90          |115         |140         |165         \n",
      "45          |70          |95          |120         |145         |170         \n"
     ]
    }
   ],
   "source": [
    "# 3 Задание\n",
    "# Умножьте все элементы матрицы на 2.5 и вычтете из каждого элемента\n",
    "# 5 (в одной строке)\n",
    "A = np.array(A * 2.5,int)\n",
    "print_matrix('A',A)\n",
    "print()\n",
    "\n",
    "A[0] = A[0] - 5\n",
    "print_matrix('A',A)"
   ]
  },
  {
   "cell_type": "code",
   "execution_count": 543,
   "metadata": {},
   "outputs": [
    {
     "name": "stdout",
     "output_type": "stream",
     "text": [
      "B:\n",
      "1.39204     |6.82759     |9.75757     \n",
      "1.48109     |3.23948     |2.58959     \n",
      "1.9         |5.50184     |0.44455     \n",
      "5.21761     |5.96764     |3.44436     \n",
      "6.69313     |8.58923     |6.8588      \n",
      "3.18545     |3.08492     |7.88914     \n"
     ]
    }
   ],
   "source": [
    "# 4 задание\n",
    "# Создайте матрицу B (6x3) заполняя каждую ячейку случайным\n",
    "# действительным числом от 0 до 10\n",
    "B = np.random.uniform(0,10,(6,3))\n",
    "print_matrix('B',B)"
   ]
  },
  {
   "cell_type": "code",
   "execution_count": 544,
   "metadata": {},
   "outputs": [
    {
     "name": "stdout",
     "output_type": "stream",
     "text": [
      "a = 495 555 585 615 645 len(a) = (5,)\n",
      "b = 19.86932 33.21071 30.98401 len(b) = (3,)\n"
     ]
    }
   ],
   "source": [
    "# 5 Задание\n",
    "# Получите вектор a, элементами которого являются суммы по всем\n",
    "# строкам матрицы A\n",
    "a = np.sum(A, axis=1)\n",
    "print('a =',' '.join(map(str, a)), f'len(a) = {np.shape(a)}')\n",
    "\n",
    "# Получите вектор b, элементами которого являются\n",
    "# суммы по всем столбцам матрицы B\n",
    "b = np.sum(B, axis=0)\n",
    "print('b =',' '.join(map(str, np.round(b,5))), f'len(b) = {np.shape(b)}')"
   ]
  },
  {
   "cell_type": "code",
   "execution_count": 545,
   "metadata": {},
   "outputs": [
    {
     "name": "stdout",
     "output_type": "stream",
     "text": [
      "c:\n",
      "1988.22853  |2712.40504  |2636.99648  \n",
      "2186.92173  |3044.51212  |2946.83655  \n",
      "2286.26834  |3210.56567  |3101.75659  \n",
      "2385.61494  |3376.61921  |3256.67662  \n",
      "2484.96155  |3542.67275  |3411.59666  \n"
     ]
    }
   ],
   "source": [
    "# 6 задание\n",
    "# Вычислите произведение матриц A и B\n",
    "c = np.matmul(A,B)\n",
    "print_matrix('c',c)"
   ]
  },
  {
   "cell_type": "code",
   "execution_count": 546,
   "metadata": {},
   "outputs": [
    {
     "name": "stdout",
     "output_type": "stream",
     "text": [
      "A:\n",
      "20          |45          |95          |120         |145         \n",
      "30          |55          |105         |130         |155         \n",
      "35          |60          |110         |135         |160         \n",
      "40          |65          |115         |140         |165         \n",
      "45          |70          |120         |145         |170         \n",
      "\n",
      "B:\n",
      "1.39204     |6.82759     |9.75757     |16.61681    |19.84171    |12.48647    \n",
      "1.48109     |3.23948     |2.58959     |11.85767    |15.83429    |10.58793    \n",
      "1.9         |5.50184     |0.44455     |10.02605    |15.98675    |12.17717    \n",
      "5.21761     |5.96764     |3.44436     |19.40439    |12.39048    |19.96923    \n",
      "6.69313     |8.58923     |6.8588      |16.28218    |16.39585    |11.18144    \n",
      "3.18545     |3.08492     |7.88914     |19.57242    |10.95266    |19.78619    \n"
     ]
    }
   ],
   "source": [
    "# 7 задание\n",
    "# Удалите третий столбец из матрицы A\n",
    "A = np.delete(A,2,1)\n",
    "print_matrix('A',A)\n",
    "print()\n",
    "\n",
    "# Добавьте три столбца из\n",
    "# случайных чисел от 10 до 20 к матрице B\n",
    "matrix = np.random.uniform(10,20,(B.shape[0],3))\n",
    "B = np.append(B, matrix, axis=1)\n",
    "print_matrix('B',B)"
   ]
  },
  {
   "cell_type": "code",
   "execution_count": 547,
   "metadata": {},
   "outputs": [
    {
     "name": "stdout",
     "output_type": "stream",
     "text": [
      "det_A = 0.0\n",
      "det_B = -56903.67070067106\n",
      "inv_B:\n",
      "-0.35592    |0.03712     |0.16136     |-0.37848    |0.318       |0.30771     \n",
      "0.24894     |-0.28336    |0.02532     |0.28828     |-0.09917    |-0.25596    \n",
      "-0.03742    |-0.15462    |0.14208     |-0.28676    |0.10733     |0.24767     \n",
      "0.1776      |0.23522     |-0.40393    |0.42073     |-0.14401    |-0.33259    \n",
      "-0.0784     |0.08829     |0.07889     |-0.15972    |0.06047     |0.0807      \n",
      "-0.09887    |-0.18171    |0.26932     |-0.19745    |0.03045     |0.22649     \n"
     ]
    }
   ],
   "source": [
    "# 8 задание\n",
    "\n",
    "# Найдите определители матриц A и B\n",
    "det_A = np.linalg.det(A)\n",
    "print(f'det_A = {det_A}')\n",
    "\n",
    "det_B = np.linalg.det(B)\n",
    "print(f'det_B = {det_B}')\n",
    "\n",
    "# Вычислите обратные матрицы для матриц A и B\n",
    "if det_A != 0:\n",
    "    inv_A = np.linalg.inv(A)\n",
    "    print_matrix('inv_A',inv_A)\n",
    "\n",
    "if det_B != 0:\n",
    "    inv_B = np.linalg.inv(B)\n",
    "    print_matrix('inv_B',inv_B)\n"
   ]
  },
  {
   "cell_type": "code",
   "execution_count": 548,
   "metadata": {},
   "outputs": [
    {
     "name": "stdout",
     "output_type": "stream",
     "text": [
      "A:\n",
      "64000000    |-286168967  |652483009   |981729280   |-194837919  \n",
      "729000000   |1910836849  |65844273    |-734240704  |-1204383159 \n",
      "1838265625  |-588640256  |2034474048  |1836220561  |1073741824  \n",
      "-198967296  |-1890520703 |-1926606919 |458330112   |1430659017  \n",
      "-286168967  |1684883008  |981729280   |-194837919  |-147203520  \n",
      "\n",
      "B:\n",
      "103                 |478344503204        |70922462037689      |122368144750595776  |1465907020928348160 |2239522379002631    \n",
      "244                 |14017196            |609860              |1086404948183602    |62284338051028344   |222514089871359     \n",
      "7990                |23286890784         |0                   |103709866432941     |71226443676371168   |1576334614892782    \n",
      "11081679979         |72650976668         |33075992            |1073004240470897280 |2010182109602592    |1603455833333171968 \n",
      "362085006836        |11894889629621      |509885487606        |92039969249721456   |101455626574933280  |477492136840248     \n",
      "11076096            |7069988             |3617546856696       |1210659604345734400 |357500501161952     |1409518202271703808 \n"
     ]
    }
   ],
   "source": [
    "# 9 Задание\n",
    "# Возведите матрицу A в 6 степень, а матрицу B – в 14\n",
    "A = A ** 6\n",
    "print_matrix('A',A)\n",
    "print()\n",
    "\n",
    "B = B ** 14\n",
    "\n",
    "def print_matrix(matrix_name: str, matrix: np.ndarray) -> None:\n",
    "    print(matrix_name + ':')\n",
    "    print('\\n'.join('|'.join(\"{:20}\".format(str(round(cell))) for cell in row) for row in matrix))\n",
    "\n",
    "print_matrix('B',B)"
   ]
  },
  {
   "cell_type": "code",
   "execution_count": 549,
   "metadata": {},
   "outputs": [
    {
     "name": "stdout",
     "output_type": "stream",
     "text": [
      "answer:\n",
      "-0.5659405940594059 0.5169636963696369 -0.2833003300330033 -0.7912871287128713\n"
     ]
    }
   ],
   "source": [
    "# 10 задание \n",
    "# Решите систему линейных уравнений для своего варианта\n",
    "M = np.array([[2, -5, 1, 0],\n",
    "              [1, -1, -13, 0],\n",
    "              [3, -2, -2, -4],\n",
    "              [4, 0, 2.7, -1.3]])\n",
    "\n",
    "b = np.array([-4,2.6,1,-2]) \n",
    "\n",
    "answer = np.linalg.solve(M,b)\n",
    "print('answer:')\n",
    "print(' '.join(map(str, answer)))\n"
   ]
  }
 ],
 "metadata": {
  "kernelspec": {
   "display_name": "Python 3",
   "language": "python",
   "name": "python3"
  },
  "language_info": {
   "codemirror_mode": {
    "name": "ipython",
    "version": 3
   },
   "file_extension": ".py",
   "mimetype": "text/x-python",
   "name": "python",
   "nbconvert_exporter": "python",
   "pygments_lexer": "ipython3",
   "version": "3.11.3"
  },
  "orig_nbformat": 4
 },
 "nbformat": 4,
 "nbformat_minor": 2
}
