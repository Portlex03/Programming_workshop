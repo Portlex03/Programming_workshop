{
 "cells": [
  {
   "cell_type": "code",
   "execution_count": 17,
   "metadata": {},
   "outputs": [],
   "source": [
    "import warnings\n",
    "warnings.filterwarnings('ignore')"
   ]
  },
  {
   "cell_type": "markdown",
   "metadata": {},
   "source": [
    "# 1. Подготовка данных\n"
   ]
  },
  {
   "cell_type": "markdown",
   "metadata": {},
   "source": [
    "## 1.1 Загрузка и просмотр\n"
   ]
  },
  {
   "cell_type": "code",
   "execution_count": 18,
   "metadata": {},
   "outputs": [
    {
     "data": {
      "text/html": [
       "<div>\n",
       "<style scoped>\n",
       "    .dataframe tbody tr th:only-of-type {\n",
       "        vertical-align: middle;\n",
       "    }\n",
       "\n",
       "    .dataframe tbody tr th {\n",
       "        vertical-align: top;\n",
       "    }\n",
       "\n",
       "    .dataframe thead th {\n",
       "        text-align: right;\n",
       "    }\n",
       "</style>\n",
       "<table border=\"1\" class=\"dataframe\">\n",
       "  <thead>\n",
       "    <tr style=\"text-align: right;\">\n",
       "      <th></th>\n",
       "      <th>City</th>\n",
       "      <th>Vehicle Type</th>\n",
       "      <th>Weather</th>\n",
       "      <th>Economic Condition</th>\n",
       "      <th>Day Of Week</th>\n",
       "      <th>Hour Of Day</th>\n",
       "      <th>Speed</th>\n",
       "      <th>Is Peak Hour</th>\n",
       "      <th>Random Event Occurred</th>\n",
       "      <th>Energy Consumption</th>\n",
       "      <th>Traffic Density</th>\n",
       "    </tr>\n",
       "  </thead>\n",
       "  <tbody>\n",
       "    <tr>\n",
       "      <th>0</th>\n",
       "      <td>SolarisVille</td>\n",
       "      <td>Drone</td>\n",
       "      <td>Snowy</td>\n",
       "      <td>Stable</td>\n",
       "      <td>Sunday</td>\n",
       "      <td>20</td>\n",
       "      <td>29.4268</td>\n",
       "      <td>0</td>\n",
       "      <td>0</td>\n",
       "      <td>14.7134</td>\n",
       "      <td>0.5241</td>\n",
       "    </tr>\n",
       "    <tr>\n",
       "      <th>1</th>\n",
       "      <td>AquaCity</td>\n",
       "      <td>Flying Car</td>\n",
       "      <td>Solar Flare</td>\n",
       "      <td>Recession</td>\n",
       "      <td>Wednesday</td>\n",
       "      <td>2</td>\n",
       "      <td>118.8000</td>\n",
       "      <td>0</td>\n",
       "      <td>0</td>\n",
       "      <td>143.5682</td>\n",
       "      <td>0.3208</td>\n",
       "    </tr>\n",
       "    <tr>\n",
       "      <th>2</th>\n",
       "      <td>Neuroburg</td>\n",
       "      <td>Autonomous Vehicle</td>\n",
       "      <td>Solar Flare</td>\n",
       "      <td>Recession</td>\n",
       "      <td>Wednesday</td>\n",
       "      <td>16</td>\n",
       "      <td>100.3904</td>\n",
       "      <td>0</td>\n",
       "      <td>0</td>\n",
       "      <td>91.2640</td>\n",
       "      <td>0.0415</td>\n",
       "    </tr>\n",
       "    <tr>\n",
       "      <th>3</th>\n",
       "      <td>Ecoopolis</td>\n",
       "      <td>Drone</td>\n",
       "      <td>Clear</td>\n",
       "      <td>Booming</td>\n",
       "      <td>Thursday</td>\n",
       "      <td>8</td>\n",
       "      <td>76.8000</td>\n",
       "      <td>1</td>\n",
       "      <td>0</td>\n",
       "      <td>46.0753</td>\n",
       "      <td>0.1811</td>\n",
       "    </tr>\n",
       "    <tr>\n",
       "      <th>4</th>\n",
       "      <td>AquaCity</td>\n",
       "      <td>Autonomous Vehicle</td>\n",
       "      <td>Solar Flare</td>\n",
       "      <td>Stable</td>\n",
       "      <td>Saturday</td>\n",
       "      <td>16</td>\n",
       "      <td>45.2176</td>\n",
       "      <td>0</td>\n",
       "      <td>0</td>\n",
       "      <td>40.1934</td>\n",
       "      <td>0.4544</td>\n",
       "    </tr>\n",
       "  </tbody>\n",
       "</table>\n",
       "</div>"
      ],
      "text/plain": [
       "           City        Vehicle Type      Weather Economic Condition  \\\n",
       "0  SolarisVille               Drone        Snowy             Stable   \n",
       "1      AquaCity          Flying Car  Solar Flare          Recession   \n",
       "2     Neuroburg  Autonomous Vehicle  Solar Flare          Recession   \n",
       "3     Ecoopolis               Drone        Clear            Booming   \n",
       "4      AquaCity  Autonomous Vehicle  Solar Flare             Stable   \n",
       "\n",
       "  Day Of Week  Hour Of Day     Speed  Is Peak Hour  Random Event Occurred  \\\n",
       "0      Sunday           20   29.4268             0                      0   \n",
       "1   Wednesday            2  118.8000             0                      0   \n",
       "2   Wednesday           16  100.3904             0                      0   \n",
       "3    Thursday            8   76.8000             1                      0   \n",
       "4    Saturday           16   45.2176             0                      0   \n",
       "\n",
       "   Energy Consumption  Traffic Density  \n",
       "0             14.7134           0.5241  \n",
       "1            143.5682           0.3208  \n",
       "2             91.2640           0.0415  \n",
       "3             46.0753           0.1811  \n",
       "4             40.1934           0.4544  "
      ]
     },
     "execution_count": 18,
     "metadata": {},
     "output_type": "execute_result"
    }
   ],
   "source": [
    "import pandas as pd\n",
    "\n",
    "futuristic_city = pd.read_csv(\"futuristic_city_traffic.csv\")\n",
    "\n",
    "futuristic_city.head()"
   ]
  },
  {
   "cell_type": "code",
   "execution_count": 19,
   "metadata": {},
   "outputs": [
    {
     "name": "stdout",
     "output_type": "stream",
     "text": [
      "<class 'pandas.core.frame.DataFrame'>\n",
      "RangeIndex: 1219567 entries, 0 to 1219566\n",
      "Data columns (total 11 columns):\n",
      " #   Column                 Non-Null Count    Dtype  \n",
      "---  ------                 --------------    -----  \n",
      " 0   City                   1219567 non-null  object \n",
      " 1   Vehicle Type           1219567 non-null  object \n",
      " 2   Weather                1219567 non-null  object \n",
      " 3   Economic Condition     1219567 non-null  object \n",
      " 4   Day Of Week            1219567 non-null  object \n",
      " 5   Hour Of Day            1219567 non-null  int64  \n",
      " 6   Speed                  1219567 non-null  float64\n",
      " 7   Is Peak Hour           1219567 non-null  int64  \n",
      " 8   Random Event Occurred  1219567 non-null  int64  \n",
      " 9   Energy Consumption     1219567 non-null  float64\n",
      " 10  Traffic Density        1219567 non-null  float64\n",
      "dtypes: float64(3), int64(3), object(5)\n",
      "memory usage: 102.4+ MB\n"
     ]
    }
   ],
   "source": [
    "futuristic_city.info()"
   ]
  },
  {
   "cell_type": "markdown",
   "metadata": {},
   "source": [
    "## 1.2 Удаление выбросов\n"
   ]
  },
  {
   "cell_type": "code",
   "execution_count": 20,
   "metadata": {},
   "outputs": [],
   "source": [
    "def delete_outlier(df: pd.DataFrame):\n",
    "    numeric_columns = df.describe().columns\n",
    "\n",
    "    outlier = df[numeric_columns]\n",
    "\n",
    "    Q1 = outlier.quantile(0.25)\n",
    "\n",
    "    Q3 = outlier.quantile(0.75)\n",
    "\n",
    "    IQR = Q3 - Q1\n",
    "\n",
    "    filtered_data = outlier[\n",
    "        ~((outlier < (Q1 - 1.5 * IQR)) |\n",
    "          (outlier > (Q3 + 1.5 * IQR))\n",
    "          ).any(axis=1)]\n",
    "\n",
    "    index_list = list(filtered_data.index.values)\n",
    "\n",
    "    print(\n",
    "        f'Удалено: {int(100 - len(filtered_data) / len(df) * 100)}% данных ({len(df) - len(filtered_data):_})')\n",
    "\n",
    "    return df[df.index.isin(index_list)]"
   ]
  },
  {
   "cell_type": "code",
   "execution_count": 21,
   "metadata": {},
   "outputs": [
    {
     "name": "stdout",
     "output_type": "stream",
     "text": [
      "Удалено: 21% данных (267_195)\n",
      "<class 'pandas.core.frame.DataFrame'>\n",
      "Index: 952372 entries, 0 to 1219565\n",
      "Data columns (total 11 columns):\n",
      " #   Column                 Non-Null Count   Dtype  \n",
      "---  ------                 --------------   -----  \n",
      " 0   City                   952372 non-null  object \n",
      " 1   Vehicle Type           952372 non-null  object \n",
      " 2   Weather                952372 non-null  object \n",
      " 3   Economic Condition     952372 non-null  object \n",
      " 4   Day Of Week            952372 non-null  object \n",
      " 5   Hour Of Day            952372 non-null  int64  \n",
      " 6   Speed                  952372 non-null  float64\n",
      " 7   Is Peak Hour           952372 non-null  int64  \n",
      " 8   Random Event Occurred  952372 non-null  int64  \n",
      " 9   Energy Consumption     952372 non-null  float64\n",
      " 10  Traffic Density        952372 non-null  float64\n",
      "dtypes: float64(3), int64(3), object(5)\n",
      "memory usage: 87.2+ MB\n"
     ]
    }
   ],
   "source": [
    "futuristic_city = delete_outlier(futuristic_city)\n",
    "\n",
    "futuristic_city.info()"
   ]
  },
  {
   "cell_type": "markdown",
   "metadata": {},
   "source": [
    "## 1.3 Создание датасетов регрессии и классификации\n"
   ]
  },
  {
   "cell_type": "code",
   "execution_count": 22,
   "metadata": {},
   "outputs": [],
   "source": [
    "x_regr = futuristic_city.drop(\"Speed\", axis=1)\n",
    "y_regr = futuristic_city[\"Speed\"]\n",
    "\n",
    "x_clsf = futuristic_city.drop(\"Economic Condition\", axis=1)\n",
    "y_clsf = futuristic_city[\"Economic Condition\"]"
   ]
  },
  {
   "cell_type": "markdown",
   "metadata": {},
   "source": [
    "## 1.4 Замена категориальных данных\n"
   ]
  },
  {
   "cell_type": "code",
   "execution_count": 23,
   "metadata": {},
   "outputs": [],
   "source": [
    "x_regr = pd.get_dummies(x_regr, dtype=float)\n",
    "\n",
    "y_regr = y_regr.astype(\"float16\")\n",
    "\n",
    "x_clsf = pd.get_dummies(x_clsf, dtype=float)\n",
    "\n",
    "y_clsf = y_clsf.replace({\"Stable\": 1, \"Booming\": 2, \"Recession\": 0})"
   ]
  },
  {
   "cell_type": "markdown",
   "metadata": {},
   "source": [
    "## 1.5 Стандартизация данных\n"
   ]
  },
  {
   "cell_type": "code",
   "execution_count": 24,
   "metadata": {},
   "outputs": [],
   "source": [
    "from sklearn.preprocessing import MinMaxScaler\n",
    "import numpy as np\n",
    "\n",
    "scaler = MinMaxScaler()\n",
    "\n",
    "x_regr = scaler.fit_transform(x_regr)\n",
    "\n",
    "y_regr = scaler.fit_transform(np.array(y_regr).reshape(-1, 1)).ravel()\n",
    "\n",
    "x_clsf = scaler.fit_transform(x_clsf)"
   ]
  },
  {
   "cell_type": "markdown",
   "metadata": {},
   "source": [
    "## 1.6 Уменьшение размерности\n"
   ]
  },
  {
   "cell_type": "code",
   "execution_count": 25,
   "metadata": {},
   "outputs": [],
   "source": [
    "from sklearn.decomposition import PCA\n",
    "\n",
    "pca_regr = PCA(n_components=10)\n",
    "x_regr_pca = pd.DataFrame(pca_regr.fit_transform(\n",
    "    x_regr), columns=pca_regr.get_feature_names_out())\n",
    "\n",
    "pca_clsf = PCA(n_components=10)\n",
    "x_clsf_pca = pd.DataFrame(pca_clsf.fit_transform(\n",
    "    x_clsf), columns=pca_clsf.get_feature_names_out())"
   ]
  },
  {
   "cell_type": "code",
   "execution_count": 26,
   "metadata": {},
   "outputs": [],
   "source": [
    "from sklearn.feature_selection import SelectKBest\n",
    "\n",
    "skb_regr = SelectKBest(k=10)\n",
    "x_regr_skb = pd.DataFrame(skb_regr.fit_transform(\n",
    "    x_regr, y_regr), columns=skb_regr.get_feature_names_out())\n",
    "\n",
    "skb_clsf = SelectKBest(k=10)\n",
    "x_clsf_skb = pd.DataFrame(skb_clsf.fit_transform(\n",
    "    x_clsf, y_clsf), columns=skb_clsf.get_feature_names_out())"
   ]
  },
  {
   "cell_type": "markdown",
   "metadata": {},
   "source": [
    "## 1.7 Уменьшение потребления памяти\n"
   ]
  },
  {
   "cell_type": "code",
   "execution_count": 27,
   "metadata": {},
   "outputs": [],
   "source": [
    "import numpy as np\n",
    "\n",
    "\n",
    "def reduce_mem_usage(df: pd.DataFrame):\n",
    "    start_mem = df.memory_usage().sum() / 1024**2\n",
    "    for col in df.columns:\n",
    "        col_type = df[col].dtypes\n",
    "        if str(col_type)[:5] == 'float' and (df[col] % 1 != 0).any():\n",
    "            c_min = df[col].min()\n",
    "            c_max = df[col].max()\n",
    "            if c_min > np.finfo('f2').min and c_max < np.finfo('f2').max:\n",
    "                df[col] = df[col].astype(np.float16)\n",
    "            elif c_min > np.finfo('f4').min and c_max < np.finfo('f4').max:\n",
    "                df[col] = df[col].astype(np.float32)\n",
    "            else:\n",
    "                df[col] = df[col].astype(np.float64)\n",
    "        elif str(col_type)[:3] == 'int' or (df[col] % 1 == 0).all():\n",
    "            c_min = df[col].min()\n",
    "            c_max = df[col].max()\n",
    "            if c_min > np.iinfo('i1').min and c_max < np.iinfo('i1').max:\n",
    "                df[col] = df[col].astype(np.int8)\n",
    "            elif c_min > np.iinfo('i2').min and c_max < np.iinfo('i2').max:\n",
    "                df[col] = df[col].astype(np.int16)\n",
    "            elif c_min > np.iinfo('i4').min and c_max < np.iinfo('i4').max:\n",
    "                df[col] = df[col].astype(np.int32)\n",
    "            elif c_min > np.iinfo('i8').min and c_max < np.iinfo('i8').max:\n",
    "                df[col] = df[col].astype(np.int64)\n",
    "        elif col == 'timestamp':\n",
    "            df[col] = pd.to_datetime(df[col])\n",
    "        elif str(col_type)[:8] != 'datetime':\n",
    "            df[col] = df[col].astype('category')\n",
    "    end_mem = df.memory_usage().sum() / 1024**2\n",
    "    print('Потребление памяти сократилось на', round(start_mem - end_mem, 2),\n",
    "          'Мб (минус', round(100 * (start_mem - end_mem) / start_mem, 1), '%)')\n",
    "    return df"
   ]
  },
  {
   "cell_type": "code",
   "execution_count": 28,
   "metadata": {},
   "outputs": [
    {
     "name": "stdout",
     "output_type": "stream",
     "text": [
      "Потребление памяти сократилось на 54.5 Мб (минус 75.0 %)\n",
      "Потребление памяти сократилось на 61.76 Мб (минус 85.0 %)\n",
      "Потребление памяти сократилось на 54.5 Мб (минус 75.0 %)\n",
      "Потребление памяти сократилось на 61.76 Мб (минус 85.0 %)\n"
     ]
    }
   ],
   "source": [
    "for df in [x_regr_pca, x_regr_skb, x_clsf_pca, x_clsf_skb]:\n",
    "    reduce_mem_usage(df)"
   ]
  },
  {
   "cell_type": "markdown",
   "metadata": {},
   "source": [
    "# 2. Создание обучающих наборов\n"
   ]
  },
  {
   "cell_type": "code",
   "execution_count": 29,
   "metadata": {},
   "outputs": [],
   "source": [
    "from sklearn.model_selection import train_test_split\n",
    "from sklearn.metrics import mean_squared_error as mse, r2_score as r2, classification_report\n",
    "\n",
    "\n",
    "def test_model(x, y, model, classification=False):\n",
    "    x_tr, x_test, y_tr, y_test = train_test_split(\n",
    "        x, y, test_size=0.2, random_state=42\n",
    "    )\n",
    "\n",
    "    model = model.fit(x_tr, y_tr)\n",
    "\n",
    "    y_pred = model.predict(x_test)\n",
    "\n",
    "    if classification:\n",
    "        print(classification_report(y_test, y_pred))\n",
    "    else:\n",
    "        print(f\"* mse: {mse(y_test, y_pred).round(3)}\\n* r2 : {r2(y_test, y_pred).round(3)}\")"
   ]
  },
  {
   "cell_type": "markdown",
   "metadata": {},
   "source": [
    "# 3. Создание модели\n"
   ]
  },
  {
   "cell_type": "code",
   "execution_count": 30,
   "metadata": {},
   "outputs": [],
   "source": [
    "from sklearn.linear_model import LinearRegression\n",
    "from sklearn.preprocessing import PolynomialFeatures\n",
    "from sklearn.pipeline import Pipeline\n",
    "\n",
    "pipeline = Pipeline([\n",
    "    ('polynomial', PolynomialFeatures(degree=4)),\n",
    "    ('model', LinearRegression())\n",
    "])"
   ]
  },
  {
   "cell_type": "code",
   "execution_count": 31,
   "metadata": {},
   "outputs": [],
   "source": [
    "from sklearn.linear_model import PassiveAggressiveClassifier\n",
    "\n",
    "model = PassiveAggressiveClassifier()"
   ]
  },
  {
   "cell_type": "markdown",
   "metadata": {},
   "source": [
    "# 4. Обучение модели и оценка производительности\n"
   ]
  },
  {
   "cell_type": "code",
   "execution_count": 32,
   "metadata": {},
   "outputs": [
    {
     "name": "stdout",
     "output_type": "stream",
     "text": [
      "* mse: 0.0010004043579101562\n",
      "* r2 : 0.967\n"
     ]
    }
   ],
   "source": [
    "test_model(x_regr_pca, y_regr, pipeline)"
   ]
  },
  {
   "cell_type": "code",
   "execution_count": 33,
   "metadata": {},
   "outputs": [
    {
     "name": "stdout",
     "output_type": "stream",
     "text": [
      "* mse: 0.0240020751953125\n",
      "* r2 : 0.321\n"
     ]
    }
   ],
   "source": [
    "test_model(x_regr_skb, y_regr, pipeline)"
   ]
  },
  {
   "cell_type": "code",
   "execution_count": 35,
   "metadata": {},
   "outputs": [
    {
     "name": "stdout",
     "output_type": "stream",
     "text": [
      "              precision    recall  f1-score   support\n",
      "\n",
      "           0       0.36      0.16      0.22     64698\n",
      "           1       0.38      0.17      0.23     62850\n",
      "           2       0.32      0.68      0.44     62927\n",
      "\n",
      "    accuracy                           0.34    190475\n",
      "   macro avg       0.35      0.34      0.30    190475\n",
      "weighted avg       0.35      0.34      0.30    190475\n",
      "\n"
     ]
    }
   ],
   "source": [
    "test_model(x_clsf_pca, y_clsf, model, classification=True)"
   ]
  },
  {
   "cell_type": "code",
   "execution_count": 36,
   "metadata": {},
   "outputs": [
    {
     "name": "stdout",
     "output_type": "stream",
     "text": [
      "              precision    recall  f1-score   support\n",
      "\n",
      "           0       0.62      0.95      0.75     64698\n",
      "           1       0.47      0.57      0.52     62850\n",
      "           2       0.50      0.12      0.19     62927\n",
      "\n",
      "    accuracy                           0.55    190475\n",
      "   macro avg       0.53      0.55      0.48    190475\n",
      "weighted avg       0.53      0.55      0.49    190475\n",
      "\n"
     ]
    }
   ],
   "source": [
    "test_model(x_clsf_skb, y_clsf, model, classification=True)"
   ]
  }
 ],
 "metadata": {
  "kernelspec": {
   "display_name": "Python 3",
   "language": "python",
   "name": "python3"
  },
  "language_info": {
   "codemirror_mode": {
    "name": "ipython",
    "version": 3
   },
   "file_extension": ".py",
   "mimetype": "text/x-python",
   "name": "python",
   "nbconvert_exporter": "python",
   "pygments_lexer": "ipython3",
   "version": "3.11.7"
  }
 },
 "nbformat": 4,
 "nbformat_minor": 2
}
